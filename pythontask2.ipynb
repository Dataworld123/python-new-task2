{
 "cells": [
  {
   "cell_type": "code",
   "execution_count": null,
   "id": "c1a2b836-8597-4eee-8174-c4ef1b016f14",
   "metadata": {},
   "outputs": [],
   "source": [
    "Q1. You are writing code for a company. The requirement of the company is that you create a python\n",
    "function that will check whether the password entered by the user is correct or not. The function should\n",
    "take the password as input and return the string “Valid Password” if the entered password follows the\n",
    "below-given password guidelines else it should return “Invalid Password”."
   ]
  },
  {
   "cell_type": "code",
   "execution_count": null,
   "id": "a70ba373-62c5-4090-b1d2-6e87ba7dee25",
   "metadata": {},
   "outputs": [],
   "source": [
    "def check_password(password):\n",
    "    # Check length of password\n",
    "    if len(password) < 8:\n",
    "        return \"Invalid Password: Password should be at least 8 characters long.\"\n",
    "\n",
    "    # Check if password has at least one uppercase letter\n",
    "    if not any(char.isupper() for char in password):\n",
    "        return \"Invalid Password: Password should contain at least one uppercase letter.\"\n",
    "\n",
    "    # Check if password has at least one lowercase letter\n",
    "    if not any(char.islower() for char in password):\n",
    "        return \"Invalid Password: Password should contain at least one lowercase letter.\"\n",
    "\n",
    "    # Check if password has at least one digit\n",
    "    if not any(char.isdigit() for char in password):\n",
    "        return \"Invalid Password: Password should contain at least one digit.\"\n",
    "\n",
    "    # Check if password has at least one special character\n",
    "    special_chars = ['!', '@', '#', '$', '%', '^', '&', '*', '(', ')', '-', '+', '=', '[', ']', '{', '}', '|', '\\\\', '/', ',', '.', '<', '>', '?']\n",
    "    if not any(char in special_chars for char in password):\n",
    "        return \"Invalid Password: Password should contain at least one special character.\"\n",
    "\n",
    "    # If all checks pass, return valid password\n",
    "    return \"Valid Password\"\n",
    "\n",
    "\n",
    "password = \"MyPassword@123\"\n",
    "result = check_password(password)\n",
    "print(result)\n",
    "\n",
    "\n",
    "This function takes a password as input and checks for various conditions like length, presence of uppercase and lowercase letters, digits, and special characters. \n",
    "If the password satisfies all the conditions, it returns \"Valid Password\", otherwise it returns an appropriate error message explaining the reason for the password being invalid.\n",
    "\n",
    "password = \"MyPassword@123\"\n",
    "result = check_password(password)\n",
    "print(result)\n"
   ]
  },
  {
   "cell_type": "code",
   "execution_count": null,
   "id": "a542c5e3-f12e-4c0c-acac-4930c227faa7",
   "metadata": {},
   "outputs": [],
   "source": [
    "Q2. Solve the below-given questions using at least one of the following: \n",
    "\n",
    "1. Lambda functioJ\n",
    "2. Filter functioJ\n",
    "3. Zap functioJ\n",
    "4. List ComprehensioI\n",
    "B Check if the string starts with a particular letterY\n",
    "B Check if the string is numericY\n",
    "B Sort a list of tuples having fruit names and their quantity. [(\"mango\",99),(\"orange\",80), (\"grapes\", 1000)-\n",
    "B Find the squares of numbers from 1 to 10Y\n",
    "B Find the cube root of numbers from 1 to 10Y\n",
    "B Check if a given number is evenY\n",
    "B Filter odd numbers from the given list.\n",
    "\n",
    " [1,2,3,4,5,6,7,8,9,10-\n",
    "B Sort a list of integers into positive and negative integers lists.\n",
    "\n",
    " [1,2,3,4,5,6,-1,-2,-3,-4,-5,0]"
   ]
  },
  {
   "cell_type": "code",
   "execution_count": null,
   "id": "6786a704-a0bd-4583-8e81-2cca1380d18d",
   "metadata": {},
   "outputs": [],
   "source": []
  }
 ],
 "metadata": {
  "kernelspec": {
   "display_name": "Python 3 (ipykernel)",
   "language": "python",
   "name": "python3"
  },
  "language_info": {
   "codemirror_mode": {
    "name": "ipython",
    "version": 3
   },
   "file_extension": ".py",
   "mimetype": "text/x-python",
   "name": "python",
   "nbconvert_exporter": "python",
   "pygments_lexer": "ipython3",
   "version": "3.10.8"
  }
 },
 "nbformat": 4,
 "nbformat_minor": 5
}
